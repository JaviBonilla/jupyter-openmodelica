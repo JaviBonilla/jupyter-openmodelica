{
 "cells": [
  {
   "cell_type": "markdown",
   "metadata": {},
   "source": [
    "# Jupyter OpenModelica Kernel"
   ]
  },
  {
   "cell_type": "markdown",
   "metadata": {},
   "source": [
    "An example interaction of OpenModelica in Jupyter Notebook is presented below."
   ]
  },
  {
   "cell_type": "code",
   "execution_count": 4,
   "metadata": {},
   "outputs": [],
   "source": [
    "class Pendulum \"Planar Pendulum\"\n",
    "   constant Real PI=3.141592653589793;\n",
    "   parameter Real m=1, g=9.81, L=0.5;\n",
    "   Real F;\n",
    "   output Real x(start=0.5),y(start=0);\n",
    "   output Real vx,vy;\n",
    "equation\n",
    "   m*der(vx)=-(x/L)*F;\n",
    "   m*der(vy)=-(y/L)*F-m*g;\n",
    "   der(x)=vx;\n",
    "   der(y)=vy;\n",
    "   x^2+y^2=L^2;\n",
    "end Pendulum;"
   ]
  },
  {
   "cell_type": "code",
   "execution_count": 2,
   "metadata": {},
   "outputs": [],
   "source": [
    "simulate(Pendulum,stopTime=10)"
   ]
  },
  {
   "cell_type": "code",
   "execution_count": 3,
   "metadata": {},
   "outputs": [],
   "source": [
    "plot(der(x),der(y),m)"
   ]
  },
  {
   "cell_type": "code",
   "execution_count": null,
   "metadata": {},
   "outputs": [],
   "source": [
    "type GreenClass = Real(unit = \"green\");"
   ]
  },
  {
   "cell_type": "code",
   "execution_count": null,
   "metadata": {},
   "outputs": [],
   "source": [
    "type YellowClass = Real(unit = \"yellow\");"
   ]
  },
  {
   "cell_type": "code",
   "execution_count": null,
   "metadata": {},
   "outputs": [],
   "source": [
    "class C\n",
    "  replaceable GreenClass  obj1(p1=5);\n",
    "  replaceable YellowClass obj2;\n",
    "  replaceable GreenClass  obj3;\n",
    "end C;"
   ]
  },
  {
   "cell_type": "code",
   "execution_count": null,
   "metadata": {},
   "outputs": [],
   "source": [
    "class C2 = C(redeclare RedClass obj1, redeclare GreenClass obj2);"
   ]
  },
  {
   "cell_type": "code",
   "execution_count": null,
   "metadata": {},
   "outputs": [],
   "source": [
    "class C2b\n",
    "  RedClass obj1(p1=5);    //type\n",
    "  GreenClass obj2;\n",
    "  GreenClass obj3;\n",
    "end C2b;  "
   ]
  },
  {
   "cell_type": "code",
   "execution_count": null,
   "metadata": {},
   "outputs": [],
   "source": [
    "type BlueClass = Real(unit = \"blue\");"
   ]
  },
  {
   "cell_type": "code",
   "execution_count": null,
   "metadata": {},
   "outputs": [],
   "source": [
    "class C\n",
    "  replaceable class ColoredClass = GreenClass;  //type parameter\n",
    "  ColoredClass         obj1(p1 = 5);\n",
    "  replaceable YellowClass obj2;\n",
    "  ColoredClass         obj3;\n",
    "end C;"
   ]
  },
  {
   "cell_type": "code",
   "execution_count": null,
   "metadata": {},
   "outputs": [],
   "source": [
    "package SmallPack\n",
    "\n",
    "  constant Real mypi = 3.14159;\n",
    "\n",
    "  connector Pin\n",
    "    Voltage v;\n",
    "    flow Current i;\n",
    "  end Pin;\n",
    "\n",
    "  function multiply\n",
    "    input Real x;\n",
    "    input Real y = 0;\n",
    "    output Real result;\n",
    "  algorithm\n",
    "    result := x*y;\n",
    "  end multiply;\n",
    "\n",
    "end SmallPack;\n"
   ]
  },
  {
   "cell_type": "code",
   "execution_count": null,
   "metadata": {},
   "outputs": [],
   "source": [
    "model Resistor \"Electrical resistor\"\n",
    "   Pin p, n \"positive and negative pins\";\n",
    "   Voltage v;\n",
    "   Current i;\n",
    "   parameter Real R(unit=\"Ohm\") \"Resistance\";\n",
    "equation\n",
    "   v = i*R;\n",
    "end Resistor; "
   ]
  },
  {
   "cell_type": "code",
   "execution_count": null,
   "metadata": {},
   "outputs": [],
   "source": [
    "loadModel(Modelica)"
   ]
  },
  {
   "cell_type": "code",
   "execution_count": null,
   "metadata": {},
   "outputs": [],
   "source": [
    "block Multiply\n",
    "  input Real x;\n",
    "  input Real y(start=0);\n",
    "  output Real result;\n",
    "equation\n",
    "  result = x*y;\n",
    "end Multiply;  "
   ]
  }
 ],
 "metadata": {
  "kernelspec": {
   "display_name": "OpenModelica",
   "language": "OpenModelica",
   "name": "openmodelica"
  },
  "language_info": {
   "mimetype": "text/x-modelica",
   "name": "modelica",
   "version": "1.0"
  }
 },
 "nbformat": 4,
 "nbformat_minor": 2
}
